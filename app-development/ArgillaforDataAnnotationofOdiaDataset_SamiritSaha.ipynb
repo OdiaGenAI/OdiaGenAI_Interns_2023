{
 "cells": [
  {
   "cell_type": "code",
   "execution_count": null,
   "metadata": {
    "colab": {
     "base_uri": "https://localhost:8080/"
    },
    "id": "X-fQEJklMDrZ",
    "outputId": "0cf94c77-cdbd-4c18-df0b-2714a5118593"
   },
   "outputs": [],
   "source": [
    "!pip install argilla datasets"
   ]
  },
  {
   "cell_type": "code",
   "execution_count": null,
   "metadata": {
    "colab": {
     "base_uri": "https://localhost:8080/",
     "height": 298,
     "referenced_widgets": [
      "b8b5e83400654946b83c35a5bb04e697",
      "b5ef980d810f4fd99a93b339ceedb6dd",
      "9722199600164609ab33e3ab076e29ab",
      "a3784ab38a924d5b9b3265fecac64ea7",
      "edba7b43528d420596c1416f164e9f09",
      "5d0b0a3060d14ec89f83be4dca899e6a",
      "0454a8e14f4445f9b757a509521f89ac",
      "0c7de27a58ad4a7fa997d0c7c5e86506",
      "250e83e44ba441709fb6e5da12b941da",
      "096c8b72bd574edc8c4c31f59aa1dc1d",
      "85c5f56f07a84838987b1391aa0073e0",
      "3039f2c78f94448a83497799aab6833a",
      "acd9430216314173a16fa94e4b63a645",
      "520afce1271148f7824c208eac5c8a74",
      "7d9dc715186a432ca2238e41c9d0fff0",
      "213d0f59e5eb43fab9972a91a43eff7a",
      "d8177953f8f042509169e1b4870e2f47",
      "5bcc2b41bb734f7fb3c5c2d74ce89903",
      "97f680fa94b243d4879c67ea72c70c9a",
      "127de25e341e45a1bd9760ff9803134a",
      "09fd958f2aac4ebda7a8c6c25f711c07",
      "2a2d59f8c7de4dd18b5ac7d4a5ca984e",
      "4261010b7cc349a7b8f4d5d148fa1cb8",
      "bafe4b5d7d7c4e78bee3cfebbde06031",
      "c6c322a6eb264d178524f424f3e7f0f2",
      "7fe75d021e5a49fdb183b4f66b60a7c9",
      "f344d47813fb48159c87a4e8261c1a75",
      "24be96d36b9a48b885c034760ef8980e",
      "e152c9eefcd94856b46e4e7df0be964c",
      "12a9c3497b584200b486f58ab3c96e77",
      "13a79161d72a446faaa8e81a3c27e246",
      "2da4c0e42fb84ee08eecaafc18e4cf16",
      "ad8df0c0aee84045b5ae7ad44a62a10f",
      "9d5ba678253c42d28e5265b802814e29",
      "017729c29ef846d793514db4767f0e9d",
      "6d493e55ffc64d39ba53ec116619e04e",
      "88f6992f48e3492ebbc56d088df1b69a",
      "2b34c7db011b4630ba8c135fcc70de27",
      "4336d1b2339842539e04b656538c06aa",
      "22366d3a98cc4be6a6a1f35323717fe8",
      "6a9c66f94b234d5e989fe0e61252e552",
      "c6693114a525496b86f8fa7b817dfc89",
      "ee5216b9f6ee47fe8f93ecc29eb3dad0",
      "622b8eda13d2490e8b866d8e88f88ee8",
      "3981ff845a084afabd566e9140ba18c8",
      "c1dee43625d24201ba0d102d627a1e49",
      "cd1e42b1d3a641e4be6d695166407005",
      "edc7270f20904795b6831a463360fb99",
      "14ef79b8a4c94e11a2f358d89eb59bb3",
      "fc829169be234491a211612d46c798ab",
      "34dcded801894ce68face931cdb1c8d8",
      "a859a6379a8a4657bfb0ff777a8384eb",
      "6230110a0d53405d89f0c31d14f492a5",
      "ab402c03443d4fac96d7b22f241560b9",
      "154b40cbfaaa4124a709d744b217c9e9",
      "d39ada83c5a3463c897181fb39513e67",
      "5ff619b99ffb4db98e6afef4e1133be0",
      "66259cafed234da69c40b2c727062566",
      "262978ddb07a4632886db91319b65858",
      "68fc81db894c425992de85ad8b081a9f",
      "d9f9ce6772a64106b36ba7a9a26cb027",
      "f31453dc7e514860aba62cccd7263e79",
      "3306aa03cd6f4f6aa4d748ae96422724",
      "9e83365933dc4273bb5b38a97665800d",
      "15e63b173a67472c81e4acd3f82f6e1a",
      "28ea1d41a89b4dd7baa25f80e56db1e0",
      "8bc878c14e0940a8b889e9082c1216d9",
      "0a8bfee836d8495d932ed62a11063a44",
      "f0496b8ec7b54b62bebef675998b38f6",
      "2dbe36dc021646b6874d2e56b5c86fa3",
      "f9ead7a6dcc44d1cb088533e716a208a",
      "9f2aabc1147240e7a303186654b4b416",
      "01a47ea3532546f2a3d3fc0e2b9ca9b2",
      "8be051ff95f74915a81d22d507081bfa",
      "ba652ae757ac4769b7fd2bfa0c49b9c8",
      "695f15eca5144c20ac30d0e9ac87f20c",
      "cc7b7c0275084739af29bbf87549a579",
      "7c446c17d8eb455989adeeff28777569",
      "11ec7eb3a5ed4b59b65de175e2020b0c"
     ]
    },
    "id": "1XKJ57kuNEUN",
    "outputId": "269d66a4-911c-49d9-aada-cbc6ec6b5a47"
   },
   "outputs": [],
   "source": [
    "import argilla as rg\n",
    "from datasets import load_dataset\n",
    "\n",
    "# You can find your Space URL behind the Embed this space button\n",
    "rg.init(\n",
    "    api_url=\"https://samirit-dataannotation.hf.space\",\n",
    "    api_key=\"admin.apikey\",\n",
    "    workspace=\"admin\",\n",
    ")\n",
    "banking_ds = load_dataset(\"argilla/banking_sentiment_setfit\", split=\"train\")\n",
    "# Argilla expects labels in the annotation column\n",
    "# We include labels for demo purposes\n",
    "banking_ds = banking_ds.rename_column(\"label\", \"annotation\")\n",
    "# Build argilla dataset from datasets\n",
    "argilla_ds = rg.read_datasets(banking_ds, task=\"TextClassification\")\n",
    "# Create dataset\n",
    "rg.log(argilla_ds, \"bankingapp_sentiment\")"
   ]
  },
  {
   "cell_type": "code",
   "execution_count": null,
   "metadata": {
    "id": "Q5zfAge357aQ"
   },
   "outputs": [],
   "source": [
    "# How to create a LangChain-compatible FeedbackDataset\n",
    "\n",
    "import argilla as rg\n",
    "\n",
    "rg.init(\n",
    "    api_url=\"https://samirit-dataannotation.hf.space\",\n",
    "    api_key=\"admin.apikey\",\n",
    "    workspace=\"admin\",\n",
    ")\n",
    "\n",
    "dataset = rg.FeedbackDataset(\n",
    "    fields=[\n",
    "        rg.TextField(name=\"prompt\", required=True),\n",
    "        rg.TextField(name=\"response\", required=True),\n",
    "    ],\n",
    "    questions=[\n",
    "        rg.RatingQuestion(\n",
    "            name=\"response-rating\",\n",
    "            description=\"How would you rate the quality of the response?\",\n",
    "            values=[1, 2, 3, 4, 5],\n",
    "            required=True,\n",
    "        ),\n",
    "        rg.TextQuestion(\n",
    "            name=\"response-correction\",\n",
    "            description=\"If you think the response is not accurate, please, correct it.\",\n",
    "            required=False,\n",
    "        ),\n",
    "    ],\n",
    "    guidelines=\"Please, read the questions carefully and try to answer it as accurately as possible.\",\n",
    ")\n",
    "\n",
    "dataset.push_to_argilla(\"langchain-dataset\")"
   ]
  },
  {
   "cell_type": "code",
   "execution_count": null,
   "metadata": {
    "id": "KX0Ef_PZ641n"
   },
   "outputs": [],
   "source": [
    "# Create a Feedback Dataset"
   ]
  },
  {
   "cell_type": "code",
   "execution_count": null,
   "metadata": {
    "id": "ii4rKEcL7JM7"
   },
   "outputs": [],
   "source": [
    "fields = [\n",
    "    rg.TextField(name=\"question\", required=True),\n",
    "    rg.TextField(name=\"answer\", required=True, use_markdown=True),\n",
    "]"
   ]
  },
  {
   "cell_type": "code",
   "execution_count": null,
   "metadata": {
    "colab": {
     "base_uri": "https://localhost:8080/"
    },
    "id": "8-crsQGr7LAP",
    "outputId": "7ea40af0-c619-4394-9a11-3a10b22214b4"
   },
   "outputs": [],
   "source": [
    "# Rating\n",
    "rg.RatingQuestion(\n",
    "    name=\"rating\",\n",
    "    title=\"Rate the quality of the response:\",\n",
    "    description=\"1 = very bad - 5= very good\",\n",
    "    required=True,\n",
    "    values=[1, 2, 3, 4, 5],\n",
    ")"
   ]
  },
  {
   "cell_type": "code",
   "execution_count": null,
   "metadata": {
    "colab": {
     "base_uri": "https://localhost:8080/"
    },
    "id": "JevZ8z5z7Ryr",
    "outputId": "8e7c73e3-4376-4208-cb84-8c2344c8907b"
   },
   "outputs": [],
   "source": [
    "# Text question\n",
    "rg.TextQuestion(\n",
    "    name=\"corrected-text\",\n",
    "    title=\"Provide a correction to the response:\",\n",
    "    required=False,\n",
    "    use_markdown=True,\n",
    ")"
   ]
  },
  {
   "cell_type": "code",
   "execution_count": null,
   "metadata": {
    "colab": {
     "base_uri": "https://localhost:8080/"
    },
    "id": "aHkqMARQ7Xgr",
    "outputId": "ab2fba3d-84a9-4634-eb08-42b251f3979e"
   },
   "outputs": [],
   "source": [
    "# Label question\n",
    "rg.LabelQuestion(\n",
    "    name=\"relevant\",\n",
    "    title=\"Is the response relevant for the given prompt?\",\n",
    "    labels=[\"Yes\", \"No\"],\n",
    "    required=True,\n",
    "    visible_labels=None,\n",
    ")"
   ]
  },
  {
   "cell_type": "code",
   "execution_count": null,
   "metadata": {
    "colab": {
     "base_uri": "https://localhost:8080/"
    },
    "id": "UEW7pXPF7dC3",
    "outputId": "adb0518e-73e3-4a1a-9a26-702edb7ffab1"
   },
   "outputs": [],
   "source": [
    "# Multi-Label question\n",
    "rg.MultiLabelQuestion(\n",
    "    name=\"content_class\",\n",
    "    title=\"Does the response include any of the following?\",\n",
    "    description=\"Select all that apply\",\n",
    "    labels={\n",
    "        \"hate\": \"Hate Speech\",\n",
    "        \"sexual\": \"Sexual content\",\n",
    "        \"violent\": \"Violent content\",\n",
    "        \"pii\": \"Personal information\",\n",
    "        \"untruthful\": \"Untruthful info\",\n",
    "        \"not_english\": \"Not English\",\n",
    "        \"inappropriate\": \"Inappropriate content\",\n",
    "    },\n",
    "    required=False,\n",
    "    visible_labels=4,\n",
    ")"
   ]
  },
  {
   "cell_type": "code",
   "execution_count": null,
   "metadata": {
    "id": "or-k6Fhj8G7f"
   },
   "outputs": [],
   "source": [
    "# Configuring the dataset"
   ]
  },
  {
   "cell_type": "code",
   "execution_count": null,
   "metadata": {
    "id": "XKbJ-KOt9Oyk"
   },
   "outputs": [],
   "source": [
    "dataset = rg.FeedbackDataset(\n",
    "    guidelines=\"Please, read the question carefully and try to answer it as accurately as possible.\",\n",
    "    fields=[\n",
    "        rg.TextField(name=\"question\"),\n",
    "        rg.TextField(name=\"answer\"),\n",
    "    ],\n",
    "    questions=[\n",
    "        rg.RatingQuestion(\n",
    "            name=\"answer_quality\",\n",
    "            description=\"How would you rate the quality of the answer?\",\n",
    "            values=[1, 2, 3, 4, 5],\n",
    "        ),\n",
    "        rg.TextQuestion(\n",
    "            name=\"answer_correction\",\n",
    "            description=\"If you think the answer is not accurate, please, correct it.\",\n",
    "            required=False,\n",
    "        ),\n",
    "    ],\n",
    ")"
   ]
  },
  {
   "cell_type": "code",
   "execution_count": null,
   "metadata": {
    "id": "xVxxLyo09QbZ"
   },
   "outputs": [],
   "source": [
    "# Add records"
   ]
  },
  {
   "cell_type": "code",
   "execution_count": null,
   "metadata": {
    "colab": {
     "base_uri": "https://localhost:8080/",
     "height": 374
    },
    "id": "AwTvJ99ujSef",
    "outputId": "3d038049-4a31-43cf-a8c7-d68ef6397c6c"
   },
   "outputs": [],
   "source": [
    "# add records from dolly odia dataset\n",
    "from datasets import load_dataset\n",
    "\n",
    "# load and inspect a dataset from the Hugging Face Hub\n",
    "hf_dataset = load_dataset(\"OdiaGenAI/dolly-odia-15k\", split=\"train\")\n",
    "df = hf_dataset.to_pandas()\n",
    "df\n",
    "data_df = df.sample(5)\n",
    "selected_data_df = data_df[[\"instruction\", \"response\", \"context\"]]\n",
    "selected_data_df"
   ]
  },
  {
   "cell_type": "code",
   "execution_count": null,
   "metadata": {
    "colab": {
     "base_uri": "https://localhost:8080/",
     "height": 678
    },
    "id": "LBiz0WMP9V8A",
    "outputId": "60426fe3-8131-4688-cc51-1b228ac6ddfd"
   },
   "outputs": [],
   "source": [
    "from datasets import load_dataset\n",
    "\n",
    "# load and inspect a dataset from the Hugging Face Hub\n",
    "hf_dataset = load_dataset(\"databricks/databricks-dolly-15k\", split=\"train\")\n",
    "df = hf_dataset.to_pandas()\n",
    "selected_data_df1 = df[[\"instruction\", \"response\", \"context\"]]\n",
    "selected_data_df1"
   ]
  },
  {
   "cell_type": "code",
   "execution_count": null,
   "metadata": {
    "colab": {
     "base_uri": "https://localhost:8080/",
     "height": 423
    },
    "id": "YebJBGnvla4r",
    "outputId": "9d161c4b-8db2-4362-c46a-efd94b23a0d2"
   },
   "outputs": [],
   "source": [
    "import pandas as pd\n",
    "\n",
    "frames = [selected_data_df1, selected_data_df]\n",
    "result = pd.concat(frames)\n",
    "result"
   ]
  },
  {
   "cell_type": "code",
   "execution_count": null,
   "metadata": {
    "id": "G7y9TqW4u4Cw"
   },
   "outputs": [],
   "source": [
    "from datasets import Dataset\n",
    "\n",
    "dataset1 = Dataset.from_pandas(result)"
   ]
  },
  {
   "cell_type": "code",
   "execution_count": null,
   "metadata": {
    "colab": {
     "base_uri": "https://localhost:8080/",
     "height": 423
    },
    "id": "tdyA3qMApMAx",
    "outputId": "c47aa6e8-6073-450c-8975-64d0abfbab11"
   },
   "outputs": [],
   "source": [
    "dataset1\n",
    "df1 = dataset1.to_pandas()\n",
    "df1"
   ]
  },
  {
   "cell_type": "code",
   "execution_count": null,
   "metadata": {
    "id": "axeMU3YwThmh"
   },
   "outputs": [],
   "source": [
    "# create a single Feedback Record\n",
    "record = rg.FeedbackRecord(\n",
    "    fields={\n",
    "        \"question\": \"Why can camels survive long without water?\",\n",
    "        \"answer\": \"Camels use the fat in their humps to keep them filled with energy and hydration for long periods of time.\",\n",
    "    },\n",
    "    metadata={\"source\": \"encyclopedia\"},\n",
    "    external_id=None,\n",
    ")"
   ]
  },
  {
   "cell_type": "code",
   "execution_count": null,
   "metadata": {
    "id": "jweG7Lxtd469"
   },
   "outputs": [],
   "source": [
    "# transform a whole dataset into records at once, renaming the fields and optionally filtering the original dataset\n",
    "records = [\n",
    "    rg.FeedbackRecord(\n",
    "        fields={\"question\": record[\"instruction\"], \"answer\": record[\"response\"]}\n",
    "    )\n",
    "    for record in dataset1\n",
    "]"
   ]
  },
  {
   "cell_type": "code",
   "execution_count": null,
   "metadata": {
    "colab": {
     "base_uri": "https://localhost:8080/"
    },
    "id": "T9uu4H0_Qman",
    "outputId": "80dd2d0d-0bf8-4221-db69-48213b183054"
   },
   "outputs": [],
   "source": [
    "records"
   ]
  },
  {
   "cell_type": "code",
   "execution_count": null,
   "metadata": {
    "id": "y643IX8Md-kg"
   },
   "outputs": [],
   "source": [
    "# add records to the dataset\n",
    "dataset.add_records(records)"
   ]
  },
  {
   "cell_type": "code",
   "execution_count": null,
   "metadata": {
    "colab": {
     "base_uri": "https://localhost:8080/"
    },
    "id": "0UTOCW-PeC11",
    "outputId": "5c447673-5db3-4396-ea1f-4d69a2c41b08"
   },
   "outputs": [],
   "source": [
    "# Push to Argilla\n",
    "dataset.push_to_argilla(name=\"my-practisedataset1a\", workspace=\"admin\")"
   ]
  },
  {
   "cell_type": "markdown",
   "metadata": {
    "id": "3qA0mzg3HQuX"
   },
   "source": [
    "FOR DOLLY ODIA DATASET"
   ]
  },
  {
   "cell_type": "code",
   "execution_count": null,
   "metadata": {
    "colab": {
     "base_uri": "https://localhost:8080/",
     "height": 748
    },
    "id": "Z_6uQnsAGx59",
    "outputId": "8f7653d4-0ded-4d09-fd5e-8dc977917884"
   },
   "outputs": [],
   "source": [
    "# add records from dolly odia dataset\n",
    "from datasets import load_dataset\n",
    "\n",
    "# load and inspect a dataset from the Hugging Face Hub\n",
    "hf_dataset = load_dataset(\"OdiaGenAI/dolly-odia-15k\", split=\"train\")\n",
    "df = hf_dataset.to_pandas()\n",
    "df"
   ]
  },
  {
   "cell_type": "code",
   "execution_count": null,
   "metadata": {
    "id": "MReBj43PHbVj"
   },
   "outputs": [],
   "source": [
    "# transform a whole dataset into records at once, renaming the fields and optionally filtering the original dataset\n",
    "import argilla as rg\n",
    "\n",
    "records = [\n",
    "    rg.FeedbackRecord(\n",
    "        fields={\"question\": record[\"instruction\"], \"answer\": record[\"response\"]}\n",
    "    )\n",
    "    for record in hf_dataset\n",
    "    if record[\"category\"] == \"ବନ୍ଦ _ qa\"\n",
    "]"
   ]
  },
  {
   "cell_type": "code",
   "execution_count": null,
   "metadata": {
    "id": "xvvVP6BHJtDs"
   },
   "outputs": [],
   "source": [
    "import argilla as rg\n",
    "\n",
    "dataset = rg.FeedbackDataset(\n",
    "    guidelines=\"Please, read the question carefully and try to answer it as accurately as possible.\",\n",
    "    fields=[\n",
    "        rg.TextField(name=\"question\"),\n",
    "        rg.TextField(name=\"answer\"),\n",
    "    ],\n",
    "    questions=[\n",
    "        rg.RatingQuestion(\n",
    "            name=\"answer_quality\",\n",
    "            description=\"How would you rate the quality of the answer?\",\n",
    "            values=[1, 2, 3, 4, 5],\n",
    "        ),\n",
    "        rg.TextQuestion(\n",
    "            name=\"answer_correction\",\n",
    "            description=\"If you think the answer is not accurate, please, correct it.\",\n",
    "            required=False,\n",
    "        ),\n",
    "    ],\n",
    ")"
   ]
  },
  {
   "cell_type": "code",
   "execution_count": null,
   "metadata": {
    "id": "9pwh5JN06smJ"
   },
   "outputs": [],
   "source": [
    "rg.init(\n",
    "    api_url=\"https://samirit-dataannotation.hf.space\",\n",
    "    api_key=\"admin.apikey\",\n",
    "    workspace=\"admin\",\n",
    ")"
   ]
  },
  {
   "cell_type": "code",
   "execution_count": null,
   "metadata": {
    "colab": {
     "base_uri": "https://localhost:8080/"
    },
    "id": "hIzaOr_3Vkl-",
    "outputId": "33a3fdcf-5d80-4901-859d-2e8997753583"
   },
   "outputs": [],
   "source": [
    "records"
   ]
  },
  {
   "cell_type": "code",
   "execution_count": null,
   "metadata": {
    "id": "8jQkVGssK3fW"
   },
   "outputs": [],
   "source": [
    "# add records to the dataset\n",
    "dataset.add_records(records)"
   ]
  },
  {
   "cell_type": "code",
   "execution_count": null,
   "metadata": {
    "colab": {
     "base_uri": "https://localhost:8080/"
    },
    "id": "a5H7tf95UzSb",
    "outputId": "9ffdb7a5-da32-4803-9e25-5e9588f2e07a"
   },
   "outputs": [],
   "source": [
    "# Push to Argilla\n",
    "dataset.push_to_argilla(name=\"my-practisedataset2b\", workspace=\"admin\")"
   ]
  },
  {
   "cell_type": "code",
   "execution_count": null,
   "metadata": {
    "colab": {
     "base_uri": "https://localhost:8080/",
     "height": 400
    },
    "id": "g2IMnV8czoUd",
    "outputId": "2eddc50d-3c74-4ad1-a6be-0f3220b42b27"
   },
   "outputs": [],
   "source": [
    "# add records from dolly odia dataset\n",
    "from datasets import load_dataset\n",
    "\n",
    "# load and inspect a dataset from the Hugging Face Hub\n",
    "hf_dataset1 = load_dataset(\"OdiaGenAI/dolly-odia-15k\", split=\"train\")\n",
    "df1 = hf_dataset1.to_pandas()\n",
    "df1\n",
    "data_df1 = df1.sample(10)\n",
    "selected_data_df1 = data_df1[[\"instruction\", \"response\", \"context\"]]\n",
    "selected_data_df1"
   ]
  },
  {
   "cell_type": "code",
   "execution_count": null,
   "metadata": {
    "colab": {
     "base_uri": "https://localhost:8080/",
     "height": 243
    },
    "id": "0b-XJnybz0Di",
    "outputId": "3bb28080-803b-456a-b18e-990946e29290"
   },
   "outputs": [],
   "source": [
    "from datasets import load_dataset\n",
    "\n",
    "# load and inspect a dataset from the Hugging Face Hub\n",
    "hf_dataset = load_dataset(\"databricks/databricks-dolly-15k\", split=\"train\")\n",
    "df2 = hf_dataset.to_pandas()\n",
    "df2\n",
    "data_df2 = df2.sample(5)\n",
    "selected_data_df2 = data_df2[[\"instruction\", \"response\", \"context\"]]\n",
    "selected_data_df2"
   ]
  },
  {
   "cell_type": "code",
   "execution_count": null,
   "metadata": {
    "colab": {
     "base_uri": "https://localhost:8080/",
     "height": 519
    },
    "id": "1LYAVuf20Q4l",
    "outputId": "a56ccdf7-c0c5-480f-9b75-39bba4393573"
   },
   "outputs": [],
   "source": [
    "import pandas as pd\n",
    "\n",
    "frames2 = [selected_data_df2, selected_data_df1]\n",
    "result2 = pd.concat(frames2)\n",
    "result2"
   ]
  },
  {
   "cell_type": "code",
   "execution_count": null,
   "metadata": {
    "id": "jJwxMHeC0h75"
   },
   "outputs": [],
   "source": [
    "from datasets import Dataset\n",
    "\n",
    "dataset2 = Dataset.from_pandas(result2)"
   ]
  },
  {
   "cell_type": "code",
   "execution_count": null,
   "metadata": {
    "colab": {
     "base_uri": "https://localhost:8080/",
     "height": 519
    },
    "id": "CG69GuBw1JuT",
    "outputId": "6d046170-56b8-4019-e99e-a837a33f8507"
   },
   "outputs": [],
   "source": [
    "dataset2\n",
    "df3 = dataset2.to_pandas()\n",
    "df3"
   ]
  },
  {
   "cell_type": "code",
   "execution_count": null,
   "metadata": {
    "id": "cxDMj2J21Uu1"
   },
   "outputs": [],
   "source": [
    "# transform a whole dataset into records at once, renaming the fields and optionally filtering the original dataset\n",
    "records1 = [\n",
    "    rg.FeedbackRecord(\n",
    "        fields={\"question\": record[\"instruction\"], \"answer\": record[\"response\"]}\n",
    "    )\n",
    "    for record in dataset2\n",
    "]"
   ]
  },
  {
   "cell_type": "code",
   "execution_count": null,
   "metadata": {
    "colab": {
     "base_uri": "https://localhost:8080/"
    },
    "id": "q1aKdLzQ1b1N",
    "outputId": "175836ab-80bd-43fc-bba5-510859262e6b"
   },
   "outputs": [],
   "source": [
    "records1"
   ]
  },
  {
   "cell_type": "code",
   "execution_count": null,
   "metadata": {
    "id": "muPxh-Aw2Har"
   },
   "outputs": [],
   "source": [
    "# add records to the dataset\n",
    "dataset.add_records(records1)"
   ]
  },
  {
   "cell_type": "code",
   "execution_count": null,
   "metadata": {
    "colab": {
     "base_uri": "https://localhost:8080/"
    },
    "id": "2Vvt5pEr2WR3",
    "outputId": "0ff891c4-75df-49eb-ab76-f65c45434763"
   },
   "outputs": [],
   "source": [
    "# Push to Argilla\n",
    "dataset.push_to_argilla(name=\"my-practisedataset2a\", workspace=\"admin\")"
   ]
  },
  {
   "cell_type": "code",
   "execution_count": null,
   "metadata": {
    "id": "z6sioC7Y4g_O"
   },
   "outputs": [],
   "source": []
  },
  {
   "cell_type": "markdown",
   "metadata": {
    "id": "GxEaxEHH4hWk"
   },
   "source": [
    "FOR COMPLETE ODIA DATASET (FINAL CODE)\n"
   ]
  },
  {
   "cell_type": "code",
   "execution_count": null,
   "metadata": {
    "colab": {
     "base_uri": "https://localhost:8080/",
     "height": 461
    },
    "id": "Pm1VskSx4jQA",
    "outputId": "c8c5c916-421a-4fd1-f57f-c2dd894922a4"
   },
   "outputs": [],
   "source": [
    "# add records from dolly odia dataset\n",
    "from datasets import load_dataset\n",
    "\n",
    "# load and inspect a dataset from the Hugging Face Hub\n",
    "hf_dataseta = load_dataset(\"OdiaGenAI/dolly-odia-15k\", split=\"train\")\n",
    "dfa = hf_dataseta.to_pandas()\n",
    "dfa\n",
    "selected_data_dfa = dfa[[\"instruction\", \"response\", \"context\"]]\n",
    "selected_data_dfa"
   ]
  },
  {
   "cell_type": "code",
   "execution_count": null,
   "metadata": {
    "id": "rt8Bsp485tUm"
   },
   "outputs": [],
   "source": [
    "from datasets import Dataset\n",
    "\n",
    "dataseta = Dataset.from_pandas(selected_data_dfa)"
   ]
  },
  {
   "cell_type": "code",
   "execution_count": null,
   "metadata": {
    "colab": {
     "base_uri": "https://localhost:8080/",
     "height": 423
    },
    "id": "9kfY0WjT6FCE",
    "outputId": "70a3e327-3dbb-41ad-bdab-85317a5ba028"
   },
   "outputs": [],
   "source": [
    "dataseta\n",
    "dfa1 = dataseta.to_pandas()\n",
    "dfa1"
   ]
  },
  {
   "cell_type": "code",
   "execution_count": null,
   "metadata": {
    "id": "Bbz8r1lZ6MGa"
   },
   "outputs": [],
   "source": [
    "# transform a whole dataset into records at once, renaming the fields and optionally filtering the original dataset\n",
    "records5 = [\n",
    "    rg.FeedbackRecord(\n",
    "        fields={\"question\": record[\"instruction\"], \"answer\": record[\"response\"]}\n",
    "    )\n",
    "    for record in dataseta\n",
    "]"
   ]
  },
  {
   "cell_type": "code",
   "execution_count": null,
   "metadata": {
    "colab": {
     "base_uri": "https://localhost:8080/"
    },
    "id": "sAKvj-6a61TM",
    "outputId": "2c8a89f0-7996-4d3b-ae1a-b43890bd474a"
   },
   "outputs": [],
   "source": [
    "records5"
   ]
  },
  {
   "cell_type": "code",
   "execution_count": null,
   "metadata": {
    "id": "Jys1G8c-7dGD"
   },
   "outputs": [],
   "source": []
  },
  {
   "cell_type": "code",
   "execution_count": null,
   "metadata": {
    "id": "0TqkMPPf7eDF"
   },
   "outputs": [],
   "source": [
    "import argilla as rg\n",
    "\n",
    "dataset = rg.FeedbackDataset(\n",
    "    guidelines=\"Please, read the question carefully and try to answer it as accurately as possible.\",\n",
    "    fields=[\n",
    "        rg.TextField(name=\"question\"),\n",
    "        rg.TextField(name=\"answer\"),\n",
    "    ],\n",
    "    questions=[\n",
    "        rg.RatingQuestion(\n",
    "            name=\"answer_quality\",\n",
    "            description=\"How would you rate the quality of the answer?\",\n",
    "            values=[1, 2, 3, 4, 5],\n",
    "        ),\n",
    "        rg.TextQuestion(\n",
    "            name=\"answer_correction\",\n",
    "            description=\"If you think the answer is not accurate, please, correct it.\",\n",
    "            required=False,\n",
    "        ),\n",
    "    ],\n",
    ")"
   ]
  },
  {
   "cell_type": "code",
   "execution_count": null,
   "metadata": {
    "id": "p0PbYFYJ7kod"
   },
   "outputs": [],
   "source": [
    "# add records to the dataset\n",
    "dataset.add_records(records5)"
   ]
  },
  {
   "cell_type": "code",
   "execution_count": null,
   "metadata": {
    "colab": {
     "base_uri": "https://localhost:8080/"
    },
    "id": "U-WaH0X_7_8f",
    "outputId": "7c8d2ed3-be8d-43af-bad0-c0d4150b7da6"
   },
   "outputs": [],
   "source": [
    "# Push to Argilla\n",
    "dataset.push_to_argilla(name=\"my-practisedataset3\", workspace=\"admin\")"
   ]
  }
 ],
 "metadata": {
  "colab": {
   "provenance": []
  },
  "kernelspec": {
   "display_name": "Python 3",
   "name": "python3"
  },
  "language_info": {
   "name": "python"
  }
 },
 "nbformat": 4,
 "nbformat_minor": 0
}
